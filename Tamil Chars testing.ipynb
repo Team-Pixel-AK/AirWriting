{
 "cells": [
  {
   "cell_type": "code",
   "execution_count": 1,
   "id": "36ffb6e5",
   "metadata": {},
   "outputs": [],
   "source": [
    "import csv\n",
    "tamilCharacterCode = []\n",
    "w,h=128,128\n",
    "with open('D:\\\\SRP\\\\HandTrackingProject\\\\unicodeTamil.csv', newline='') as f:\n",
    "  reader = csv.reader(f)\n",
    "  data = list(reader)\n",
    "  for i in data:\n",
    "    go = i[1].split(' ')\n",
    "    charL = \"\"\n",
    "    for gg in go:\n",
    "      charL = charL + \"\\\\u\"+str(gg)\n",
    "    tamilCharacterCode.append(charL.encode('utf-8').decode('unicode-escape'))\n",
    "#print(tamilCharacterCode)"
   ]
  },
  {
   "cell_type": "code",
   "execution_count": 22,
   "id": "a3a90cab",
   "metadata": {},
   "outputs": [
    {
     "name": "stdout",
     "output_type": "stream",
     "text": [
      "1/1 [==============================] - 0s 252ms/step\n",
      "அ: 0.9993247985839844\n",
      "சு: 0.00025526073295623064\n",
      "து: 0.00014375818136613816\n",
      "1/1 [==============================] - 0s 50ms/step\n",
      "ஆ: 0.9992161989212036\n",
      "து: 0.000639849342405796\n",
      "வூ: 0.0001169589813798666\n",
      "1/1 [==============================] - 0s 50ms/step\n",
      "இ: 0.7549939751625061\n",
      "சி: 0.12796446681022644\n",
      "து: 0.0363224558532238\n",
      "1/1 [==============================] - 0s 54ms/step\n",
      "ஈ: 0.8204672932624817\n",
      "நூ: 0.06939312070608139\n",
      "சு: 0.033100374042987823\n",
      "1/1 [==============================] - 0s 52ms/step\n",
      "உ: 0.965347170829773\n",
      "வ: 0.011228208430111408\n",
      "ஐ: 0.010603770613670349\n",
      "1/1 [==============================] - 0s 48ms/step\n",
      "ஊ: 0.9936508536338806\n",
      "ளூ: 0.004461495205760002\n",
      "ஹி: 0.0006262751412577927\n",
      "1/1 [==============================] - 0s 56ms/step\n",
      "எ: 0.9841852784156799\n",
      "ள: 0.0076989117078483105\n",
      "ா: 0.005817518103867769\n",
      "1/1 [==============================] - 0s 48ms/step\n",
      "ஏ: 0.9998213648796082\n",
      "எ: 5.686306758434512e-05\n",
      "ர: 4.51344640168827e-05\n",
      "1/1 [==============================] - 0s 49ms/step\n",
      "ஐ: 0.9521960020065308\n",
      "ஜ: 0.014236104674637318\n",
      "ணு: 0.009932784363627434\n",
      "1/1 [==============================] - 0s 50ms/step\n",
      "ஒ: 0.8917006850242615\n",
      "ஓ: 0.03630966693162918\n",
      "மு: 0.017994776368141174\n",
      "1/1 [==============================] - 0s 51ms/step\n",
      "ஓ: 0.9845358729362488\n",
      "ஒ: 0.012797093950212002\n",
      "ஐ: 0.0008711293339729309\n",
      "1/1 [==============================] - 0s 57ms/step\n",
      "ஔ: 0.9903191328048706\n",
      "ஊ: 0.009359120391309261\n",
      "ழூ: 7.997889042599127e-05\n"
     ]
    }
   ],
   "source": [
    "import tensorflow as tf\n",
    "import numpy as np\n",
    "from PIL import Image\n",
    "\n",
    "\n",
    "#img = Image.open('D:\\\\SRP\\\\HandTrackingProject\\\\ROI.png')\n",
    "\n",
    "\n",
    "#img = img.resize((128, 128))\n",
    "#img = np.array(img) / 255.0\n",
    "#img = np.expand_dims(img, axis=0)\n",
    "\n",
    "\n",
    "model = tf.keras.models.load_model('D:\\\\SRP\\\\HandTrackingProject\\\\TamilCharsTrainedModel.h5',compile=False)\n",
    "\n",
    "\n",
    "#output = model.predict(img)\n",
    "\n",
    "\n",
    "#top_classes = np.argsort(output[0])[-3:][::-1]\n",
    "#top_probs = output[0][top_classes]\n",
    "\n",
    "for j in range(12): \n",
    "    img = Image.open('D:\\\\SRP\\\\HandTrackingProject\\\\Vowels\\\\'+str(j+1)+'.png')\n",
    "    img = img.resize((128, 128))\n",
    "    img = np.array(img) / 255.0\n",
    "    img = np.expand_dims(img, axis=0)\n",
    "    \n",
    "    output = model.predict(img)\n",
    "\n",
    "\n",
    "    top_classes = np.argsort(output[0])[-3:][::-1]\n",
    "    top_probs = output[0][top_classes]\n",
    "    for i in range(3):\n",
    "        print(f\"{tamilCharacterCode[top_classes[i]]}: {top_probs[i]}\")"
   ]
  },
  {
   "cell_type": "code",
   "execution_count": 7,
   "id": "2658f532",
   "metadata": {},
   "outputs": [
    {
     "name": "stdout",
     "output_type": "stream",
     "text": [
      "WARNING:tensorflow:5 out of the last 5 calls to <function Model.make_predict_function.<locals>.predict_function at 0x000001E19DBDE790> triggered tf.function retracing. Tracing is expensive and the excessive number of tracings could be due to (1) creating @tf.function repeatedly in a loop, (2) passing tensors with different shapes, (3) passing Python objects instead of tensors. For (1), please define your @tf.function outside of the loop. For (2), @tf.function has reduce_retracing=True option that can avoid unnecessary retracing. For (3), please refer to https://www.tensorflow.org/guide/function#controlling_retracing and https://www.tensorflow.org/api_docs/python/tf/function for  more details.\n",
      "1/1 [==============================] - 0s 247ms/step\n",
      "ம்: 0.716469407081604\n",
      "ய்: 0.11109332740306854\n",
      "மி: 0.07239830493927002\n"
     ]
    }
   ],
   "source": [
    "import tensorflow as tf\n",
    "import numpy as np\n",
    "from PIL import Image\n",
    "\n",
    "\n",
    "img = Image.open('D:\\\\SRP\\\\HandTrackingProject\\\\ROI.png')\n",
    "\n",
    "\n",
    "img = img.resize((128, 128))\n",
    "img = np.array(img) / 255.0\n",
    "img = np.expand_dims(img, axis=0)\n",
    "\n",
    "\n",
    "model = tf.keras.models.load_model('D:\\\\SRP\\\\HandTrackingProject\\\\TamilCharsTrainedModel.h5',compile=False)\n",
    "\n",
    "\n",
    "output = model.predict(img)\n",
    "\n",
    "\n",
    "top_classes = np.argsort(output[0])[-3:][::-1]\n",
    "top_probs = output[0][top_classes]\n",
    "\n",
    "\n",
    "for i in range(3):\n",
    "    print(f\"{tamilCharacterCode[top_classes[i]]}: {top_probs[i]}\")"
   ]
  },
  {
   "cell_type": "code",
   "execution_count": 25,
   "id": "64c22a9f",
   "metadata": {},
   "outputs": [
    {
     "name": "stdout",
     "output_type": "stream",
     "text": [
      "1/1 [==============================] - 0s 237ms/step\n",
      "க: 0.9945251941680908\n",
      "கு: 0.001555300666950643\n",
      "ச: 0.0008384942193515599\n",
      "1/1 [==============================] - 0s 52ms/step\n",
      "ங: 0.5109694004058838\n",
      "ரூ: 0.36551323533058167\n",
      "நி: 0.02646314539015293\n",
      "1/1 [==============================] - 0s 53ms/step\n",
      "ச: 0.8543345332145691\n",
      "க: 0.12127213180065155\n",
      "சு: 0.016342245042324066\n",
      "1/1 [==============================] - 0s 54ms/step\n",
      "ஞ: 0.7333776354789734\n",
      "ளு: 0.15961743891239166\n",
      "பீ: 0.04251888021826744\n",
      "1/1 [==============================] - 0s 53ms/step\n",
      "ட: 0.9984462857246399\n",
      "ம: 0.0009908316424116492\n",
      "ட்: 0.00039522958104498684\n"
     ]
    },
    {
     "ename": "FileNotFoundError",
     "evalue": "[Errno 2] No such file or directory: 'D:\\\\SRP\\\\HandTrackingProject\\\\Consonants\\\\6.png'",
     "output_type": "error",
     "traceback": [
      "\u001b[1;31m---------------------------------------------------------------------------\u001b[0m",
      "\u001b[1;31mFileNotFoundError\u001b[0m                         Traceback (most recent call last)",
      "Input \u001b[1;32mIn [25]\u001b[0m, in \u001b[0;36m<cell line: 23>\u001b[1;34m()\u001b[0m\n\u001b[0;32m     17\u001b[0m \u001b[38;5;66;03m#output = model.predict(img)\u001b[39;00m\n\u001b[0;32m     18\u001b[0m \n\u001b[0;32m     19\u001b[0m \n\u001b[0;32m     20\u001b[0m \u001b[38;5;66;03m#top_classes = np.argsort(output[0])[-3:][::-1]\u001b[39;00m\n\u001b[0;32m     21\u001b[0m \u001b[38;5;66;03m#top_probs = output[0][top_classes]\u001b[39;00m\n\u001b[0;32m     23\u001b[0m \u001b[38;5;28;01mfor\u001b[39;00m j \u001b[38;5;129;01min\u001b[39;00m \u001b[38;5;28mrange\u001b[39m(\u001b[38;5;241m12\u001b[39m): \n\u001b[1;32m---> 24\u001b[0m     img \u001b[38;5;241m=\u001b[39m \u001b[43mImage\u001b[49m\u001b[38;5;241;43m.\u001b[39;49m\u001b[43mopen\u001b[49m\u001b[43m(\u001b[49m\u001b[38;5;124;43m'\u001b[39;49m\u001b[38;5;124;43mD:\u001b[39;49m\u001b[38;5;130;43;01m\\\\\u001b[39;49;00m\u001b[38;5;124;43mSRP\u001b[39;49m\u001b[38;5;130;43;01m\\\\\u001b[39;49;00m\u001b[38;5;124;43mHandTrackingProject\u001b[39;49m\u001b[38;5;130;43;01m\\\\\u001b[39;49;00m\u001b[38;5;124;43mConsonants\u001b[39;49m\u001b[38;5;130;43;01m\\\\\u001b[39;49;00m\u001b[38;5;124;43m'\u001b[39;49m\u001b[38;5;241;43m+\u001b[39;49m\u001b[38;5;28;43mstr\u001b[39;49m\u001b[43m(\u001b[49m\u001b[43mj\u001b[49m\u001b[38;5;241;43m+\u001b[39;49m\u001b[38;5;241;43m1\u001b[39;49m\u001b[43m)\u001b[49m\u001b[38;5;241;43m+\u001b[39;49m\u001b[38;5;124;43m'\u001b[39;49m\u001b[38;5;124;43m.png\u001b[39;49m\u001b[38;5;124;43m'\u001b[39;49m\u001b[43m)\u001b[49m\n\u001b[0;32m     25\u001b[0m     img \u001b[38;5;241m=\u001b[39m img\u001b[38;5;241m.\u001b[39mresize((\u001b[38;5;241m128\u001b[39m, \u001b[38;5;241m128\u001b[39m))\n\u001b[0;32m     26\u001b[0m     img \u001b[38;5;241m=\u001b[39m np\u001b[38;5;241m.\u001b[39marray(img) \u001b[38;5;241m/\u001b[39m \u001b[38;5;241m255.0\u001b[39m\n",
      "File \u001b[1;32mC:\\ProgramData\\Anaconda3\\lib\\site-packages\\PIL\\Image.py:2953\u001b[0m, in \u001b[0;36mopen\u001b[1;34m(fp, mode, formats)\u001b[0m\n\u001b[0;32m   2950\u001b[0m     filename \u001b[38;5;241m=\u001b[39m fp\n\u001b[0;32m   2952\u001b[0m \u001b[38;5;28;01mif\u001b[39;00m filename:\n\u001b[1;32m-> 2953\u001b[0m     fp \u001b[38;5;241m=\u001b[39m \u001b[43mbuiltins\u001b[49m\u001b[38;5;241;43m.\u001b[39;49m\u001b[43mopen\u001b[49m\u001b[43m(\u001b[49m\u001b[43mfilename\u001b[49m\u001b[43m,\u001b[49m\u001b[43m \u001b[49m\u001b[38;5;124;43m\"\u001b[39;49m\u001b[38;5;124;43mrb\u001b[39;49m\u001b[38;5;124;43m\"\u001b[39;49m\u001b[43m)\u001b[49m\n\u001b[0;32m   2954\u001b[0m     exclusive_fp \u001b[38;5;241m=\u001b[39m \u001b[38;5;28;01mTrue\u001b[39;00m\n\u001b[0;32m   2956\u001b[0m \u001b[38;5;28;01mtry\u001b[39;00m:\n",
      "\u001b[1;31mFileNotFoundError\u001b[0m: [Errno 2] No such file or directory: 'D:\\\\SRP\\\\HandTrackingProject\\\\Consonants\\\\6.png'"
     ]
    }
   ],
   "source": [
    "import tensorflow as tf\n",
    "import numpy as np\n",
    "from PIL import Image\n",
    "\n",
    "\n",
    "#img = Image.open('D:\\\\SRP\\\\HandTrackingProject\\\\ROI.png')\n",
    "\n",
    "\n",
    "#img = img.resize((128, 128))\n",
    "#img = np.array(img) / 255.0\n",
    "#img = np.expand_dims(img, axis=0)\n",
    "\n",
    "\n",
    "model = tf.keras.models.load_model('D:\\\\SRP\\\\HandTrackingProject\\\\TamilCharsTrainedModel.h5',compile=False)\n",
    "\n",
    "\n",
    "#output = model.predict(img)\n",
    "\n",
    "\n",
    "#top_classes = np.argsort(output[0])[-3:][::-1]\n",
    "#top_probs = output[0][top_classes]\n",
    "\n",
    "for j in range(12): \n",
    "    img = Image.open('D:\\\\SRP\\\\HandTrackingProject\\\\Consonants\\\\'+str(j+1)+'.png')\n",
    "    img = img.resize((128, 128))\n",
    "    img = np.array(img) / 255.0\n",
    "    img = np.expand_dims(img, axis=0)\n",
    "    \n",
    "    output = model.predict(img)\n",
    "\n",
    "\n",
    "    top_classes = np.argsort(output[0])[-3:][::-1]\n",
    "    top_probs = output[0][top_classes]\n",
    "    for i in range(3):\n",
    "        print(f\"{tamilCharacterCode[top_classes[i]]}: {top_probs[i]}\")"
   ]
  },
  {
   "cell_type": "code",
   "execution_count": 89,
   "id": "e94e3231",
   "metadata": {},
   "outputs": [],
   "source": [
    "import cv2\n",
    "import numpy as np\n",
    "import matplotlib.pyplot as plt"
   ]
  },
  {
   "cell_type": "code",
   "execution_count": 90,
   "id": "e6fc90b9",
   "metadata": {},
   "outputs": [
    {
     "data": {
      "image/png": "[encoded data removed]",
      "text/plain": [
       "<Figure size 432x288 with 1 Axes>"
      ]
     },
     "metadata": {
      "needs_background": "light"
     },
     "output_type": "display_data"
    }
   ],
   "source": [
    "img = cv2.imread('D:\\\\SRP\\\\HandTrackingProject\\\\testing.png',0)\n",
    "img = np.float32(img)\n",
    "plt.imshow(img,cmap='gray')\n",
    "plt.show()"
   ]
  },
  {
   "cell_type": "code",
   "execution_count": 91,
   "id": "39ca1e84",
   "metadata": {},
   "outputs": [],
   "source": [
    "hist = cv2.reduce(img, 1, cv2.REDUCE_SUM,dtype=cv2.CV_32F).reshape(-1)\n",
    "#hist"
   ]
  },
  {
   "cell_type": "code",
   "execution_count": 92,
   "id": "19d98419",
   "metadata": {},
   "outputs": [
    {
     "data": {
      "image/png": "[encoded data removed]",
      "text/plain": [
       "<Figure size 432x288 with 1 Axes>"
      ]
     },
     "metadata": {
      "needs_background": "light"
     },
     "output_type": "display_data"
    }
   ],
   "source": [
    "fig, ax = plt.subplots()\n",
    "ax.plot(hist, range(len(hist)))\n",
    "ax.set_ylim([len(hist), 0])\n",
    "ax.set_xlabel('Sum')\n",
    "ax.set_ylabel('Row')\n",
    "plt.show()"
   ]
  },
  {
   "cell_type": "code",
   "execution_count": 93,
   "id": "ff5fa083",
   "metadata": {},
   "outputs": [],
   "source": [
    "th=50\n",
    "H,W = img.shape[:2]\n",
    "uppers = [(y-10) for y in range(H-1) if hist[y]<=th and hist[y+1]>th]\n",
    "lowers = [(y+10) for y in range(H-1) if hist[y]>th and hist[y+1]<=th]"
   ]
  },
  {
   "cell_type": "code",
   "execution_count": 94,
   "id": "49f6066c",
   "metadata": {},
   "outputs": [
    {
     "name": "stdout",
     "output_type": "stream",
     "text": [
      "[221]\n"
     ]
    }
   ],
   "source": [
    "print(uppers)"
   ]
  },
  {
   "cell_type": "code",
   "execution_count": 95,
   "id": "a7beaa5a",
   "metadata": {},
   "outputs": [
    {
     "name": "stdout",
     "output_type": "stream",
     "text": [
      "[426]\n"
     ]
    }
   ],
   "source": [
    "print(lowers)"
   ]
  },
  {
   "cell_type": "code",
   "execution_count": 96,
   "id": "50dabe5c",
   "metadata": {},
   "outputs": [],
   "source": [
    "if(len(uppers)!=0 and len(lowers)!=0):\n",
    "    uppers=min(uppers)\n",
    "    lowers=max(lowers)"
   ]
  },
  {
   "cell_type": "code",
   "execution_count": 98,
   "id": "f20e8753",
   "metadata": {},
   "outputs": [
    {
     "data": {
      "image/png": "[encoded data removed]",
      "text/plain": [
       "<Figure size 432x288 with 1 Axes>"
      ]
     },
     "metadata": {
      "needs_background": "light"
     },
     "output_type": "display_data"
    },
    {
     "name": "stdout",
     "output_type": "stream",
     "text": [
      "[392] [694]\n"
     ]
    }
   ],
   "source": [
    "x = uppers\n",
    "y = lowers\n",
    "line = img[x:y, :]\n",
    "hist = cv2.reduce(line, 0, cv2.REDUCE_SUM,dtype=cv2.CV_32F).reshape(-1)\n",
    "\n",
    "fig, ax = plt.subplots()\n",
    "ax.plot(range(len(hist)), hist)\n",
    "ax.set_xlim([0, len(hist)])\n",
    "ax.set_xlabel('Column')\n",
    "ax.set_ylabel('Sum')\n",
    "plt.show()\n",
    "\n",
    "th = 50\n",
    "W = line.shape[1]\n",
    "lefts = [x for x in range(W-1) if hist[x]<=th and hist[x+1]>th]\n",
    "rights = [x for x in range(W-1) if hist[x]>th and hist[x+1]<=th]\n",
    "print(lefts,rights)\n",
    "\n",
    "n=1\n",
    "for j in range(len(lefts)):\n",
    "    if rights[j]-lefts[j]>5:\n",
    "        char = line[:, lefts[j]-10:rights[j]+10]\n",
    "        filename = str(n)+'.png'.format(i,j)\n",
    "        n=n+1\n",
    "        cv2.imwrite('.//testing//'+filename, char)         "
   ]
  },
  {
   "cell_type": "code",
   "execution_count": 100,
   "id": "3a67b8d4",
   "metadata": {},
   "outputs": [],
   "source": [
    "import tensorflow as tf\n",
    "import numpy as np\n",
    "from PIL import Image\n",
    "import os\n",
    "\n",
    "file_list = os.listdir('.\\\\testing')\n",
    "num_files = len(file_list)\n",
    "\n",
    "model = tf.keras.models.load_model('D:\\\\SRP\\\\HandTrackingProject\\\\TamilCharsTrainedModel.h5',compile=False)\n",
    "\n",
    "\n",
    "for j in range(num_files): \n",
    "    img = cv2.imread('.//testing//'+str(j+1)+'.png',0)\n",
    "    if img is not None:\n",
    "        _,imgInv=cv2.threshold(img,0,255,cv2.THRESH_BINARY_INV)\n",
    "        thresh = cv2.adaptiveThreshold(imgInv,255,cv2.ADAPTIVE_THRESH_GAUSSIAN_C, cv2.THRESH_BINARY_INV,11,8)\n",
    "        kernel = cv2.getStructuringElement(cv2.MORPH_RECT, (5,5))\n",
    "        dilate = cv2.dilate(thresh, kernel, iterations=6)\n",
    "        cnts,_ = cv2.findContours(dilate, cv2.RETR_EXTERNAL, cv2.CHAIN_APPROX_SIMPLE)\n",
    "        cnts = sorted(cnts, key=cv2.contourArea, reverse=True)\n",
    "        for c in cnts:\n",
    "            x,y,w,h = cv2.boundingRect(c) #x,y +> top-left coordinates, w,h => width&height\n",
    "            ROI = imgInv[0:y+h, x:x+w]\n",
    "            ROI=cv2.resize(ROI,(128,128))\n",
    "            plt.imshow(ROI,cmap='gray')\n",
    "            plt.show()\n",
    "            break\n",
    "        #img = cv2.resize(img,(128, 128))\n",
    "        ROI = np.array(ROI) / 255.0\n",
    "        img = np.expand_dims(ROI, axis=0)\n",
    "\n",
    "        output = model.predict(img)\n",
    "\n",
    "\n",
    "        top_classes = np.argsort(output[0])[-3:][::-1]\n",
    "        top_probs = output[0][top_classes]\n",
    "        for i in range(3):\n",
    "            print(f\"{tamilCharacterCode[top_classes[i]]}: {top_probs[i]}\")"
   ]
  },
  {
   "cell_type": "code",
   "execution_count": 119,
   "id": "7c7fa424",
   "metadata": {},
   "outputs": [
    {
     "data": {
      "image/png": "[encoded data removed]",
      "text/plain": [
       "<Figure size 432x288 with 1 Axes>"
      ]
     },
     "metadata": {
      "needs_background": "light"
     },
     "output_type": "display_data"
    },
    {
     "name": "stdout",
     "output_type": "stream",
     "text": [
      "1/1 [==============================] - 0s 115ms/step\n",
      "கி: 0.5055049061775208\n",
      "மி: 0.3552136719226837\n",
      "கீ: 0.09120988100767136\n"
     ]
    },
    {
     "data": {
      "image/png": "[encoded data removed]",
      "text/plain": [
       "<Figure size 432x288 with 1 Axes>"
      ]
     },
     "metadata": {
      "needs_background": "light"
     },
     "output_type": "display_data"
    },
    {
     "name": "stdout",
     "output_type": "stream",
     "text": [
      "1/1 [==============================] - 0s 43ms/step\n",
      "ளி: 0.9952493906021118\n",
      "ளீ: 0.0015819116961210966\n",
      "னி: 0.0014765872620046139\n"
     ]
    }
   ],
   "source": [
    "import cv2\n",
    "import numpy as np\n",
    "import matplotlib.pyplot as plt\n",
    "import tensorflow as tf\n",
    "from PIL import Image\n",
    "import os\n",
    "\n",
    "img = cv2.imread('D:\\\\SRP\\\\HandTrackingProject\\\\testing.png',0)\n",
    "img = np.float32(img)\n",
    "hist = cv2.reduce(img, 1, cv2.REDUCE_SUM,dtype=cv2.CV_32F).reshape(-1)\n",
    "th=50\n",
    "H,W = img.shape[:2]\n",
    "uppers = [(y-10) for y in range(H-1) if hist[y]<=th and hist[y+1]>th]\n",
    "lowers = [(y+10) for y in range(H-1) if hist[y]>th and hist[y+1]<=th]\n",
    "if(len(uppers)!=0 and len(lowers)!=0):\n",
    "    uppers=min(uppers)\n",
    "    lowers=max(lowers)\n",
    "x = uppers\n",
    "y = lowers\n",
    "line = img[x:y, :]\n",
    "hist = cv2.reduce(line, 0, cv2.REDUCE_SUM,dtype=cv2.CV_32F).reshape(-1)\n",
    "th = 20\n",
    "W = line.shape[1]\n",
    "lefts = [x for x in range(W-1) if hist[x]<=th and hist[x+1]>th]\n",
    "rights = [x for x in range(W-1) if hist[x]>th and hist[x+1]<=th]\n",
    "n=1\n",
    "for j in range(len(lefts)):\n",
    "    if rights[j]-lefts[j]>5:\n",
    "        char = line[:, lefts[j]-10:rights[j]+10]\n",
    "        filename = str(n)+'.png'.format(i,j)\n",
    "        n=n+1\n",
    "        cv2.imwrite('.//testing//'+filename, char)     \n",
    "file_list = os.listdir('.\\\\testing')\n",
    "num_files = len(file_list)\n",
    "\n",
    "model = tf.keras.models.load_model('D:\\\\SRP\\\\HandTrackingProject\\\\TamilCharsTrainedModel.h5',compile=False)\n",
    "\n",
    "\n",
    "for j in range(n): \n",
    "    img = cv2.imread('.//testing//'+str(j+1)+'.png',0)\n",
    "    if img is not None:\n",
    "        _,imgInv=cv2.threshold(img,0,255,cv2.THRESH_BINARY_INV)\n",
    "        thresh = cv2.adaptiveThreshold(imgInv,255,cv2.ADAPTIVE_THRESH_GAUSSIAN_C, cv2.THRESH_BINARY_INV,11,8)\n",
    "        kernel = cv2.getStructuringElement(cv2.MORPH_RECT, (5,5))\n",
    "        dilate = cv2.dilate(thresh, kernel, iterations=6)\n",
    "        cnts,_ = cv2.findContours(dilate, cv2.RETR_EXTERNAL, cv2.CHAIN_APPROX_SIMPLE)\n",
    "        cnts = sorted(cnts, key=cv2.contourArea, reverse=True)\n",
    "        for c in cnts:\n",
    "            x,y,w,h = cv2.boundingRect(c) #x,y +> top-left coordinates, w,h => width&height\n",
    "            ROI = imgInv[0:y+h, x:x+w]\n",
    "            ROI=cv2.resize(ROI,(128,128))\n",
    "            plt.imshow(ROI,cmap='gray')\n",
    "            plt.show()\n",
    "            break\n",
    "        #img = cv2.resize(img,(128, 128))\n",
    "        ROI = np.array(ROI) / 255.0\n",
    "        img = np.expand_dims(ROI, axis=0)\n",
    "\n",
    "        output = model.predict(img)\n",
    "\n",
    "\n",
    "        top_classes = np.argsort(output[0])[-3:][::-1]\n",
    "        top_probs = output[0][top_classes]\n",
    "        for i in range(3):\n",
    "            print(f\"{tamilCharacterCode[top_classes[i]]}: {top_probs[i]}\")"
   ]
  },
  {
   "cell_type": "code",
   "execution_count": null,
   "id": "4bc6caf5",
   "metadata": {},
   "outputs": [],
   "source": []
  }
 ],
 "metadata": {
  "kernelspec": {
   "display_name": "Python 3 (ipykernel)",
   "language": "python",
   "name": "python3"
  },
  "language_info": {
   "codemirror_mode": {
    "name": "ipython",
    "version": 3
   },
   "file_extension": ".py",
   "mimetype": "text/x-python",
   "name": "python",
   "nbconvert_exporter": "python",
   "pygments_lexer": "ipython3",
   "version": "3.9.12"
  }
 },
 "nbformat": 4,
 "nbformat_minor": 5
}
